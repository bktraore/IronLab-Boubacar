{
 "cells": [
  {
   "cell_type": "markdown",
   "metadata": {},
   "source": [
    "# Loops\n",
    "\n",
    "Complete the following set of exercises to solidify your knowledge for Loops."
   ]
  },
  {
   "cell_type": "markdown",
   "metadata": {},
   "source": [
    "#### 1. Print first 10 natural numbers using while loop"
   ]
  },
  {
   "cell_type": "code",
   "execution_count": 2,
   "metadata": {},
   "outputs": [
    {
     "name": "stdout",
     "output_type": "stream",
     "text": [
      "1\n",
      "2\n",
      "3\n",
      "4\n",
      "5\n",
      "6\n",
      "7\n",
      "8\n",
      "9\n",
      "10\n"
     ]
    }
   ],
   "source": [
    "i=1\n",
    "while i < 11:\n",
    "    print(i)\n",
    "    i+=1"
   ]
  },
  {
   "cell_type": "markdown",
   "metadata": {},
   "source": [
    "#### 2. Display numbers from a list using loop\n",
    "Write a program to display only those numbers from a list that satisfy the following conditions\n",
    "\n",
    "The number must be divisible by five\n",
    "\n",
    "If the number is greater than 150, then skip it and move to the next number\n",
    "\n",
    "If the number is greater than 500, then stop the loop\n",
    "\n",
    "numbers = [12, 75, 150, 180, 145, 525, 50]"
   ]
  },
  {
   "cell_type": "code",
   "execution_count": 41,
   "metadata": {},
   "outputs": [
    {
     "name": "stdout",
     "output_type": "stream",
     "text": [
      "12\n",
      "75\n",
      "150\n",
      "145\n"
     ]
    }
   ],
   "source": [
    "numbers = [12, 75, 150, 180, 145, 525, 50]\n",
    "\n",
    "for x in numbers :\n",
    "   if x % 5 == 0:\n",
    "      if x > 500:\n",
    "        break\n",
    "      if x > 150:\n",
    "       continue\n",
    "   print(x)\n",
    "\n",
    "   \n",
    "\n",
    "     \n",
    "        \n",
    "      \n",
    "      \n",
    "\n",
    "\n",
    "        \n",
    "        \n",
    "\n",
    "\n"
   ]
  },
  {
   "cell_type": "markdown",
   "metadata": {},
   "source": [
    "#### 3.Write a Python program to check the validity of a password (input from users).\n",
    "\n",
    "Validation :\n",
    "\n",
    "At least 1 letter between [a-z] and 1 letter between [A-Z].\n",
    "\n",
    "At least 1 number between [0-9].\n",
    "\n",
    "At least 1 character from [$#@].\n",
    "\n",
    "Minimum length 6 characters.\n",
    "\n",
    "Maximum length 16 characters."
   ]
  },
  {
   "cell_type": "code",
   "execution_count": 49,
   "metadata": {},
   "outputs": [
    {
     "name": "stdout",
     "output_type": "stream",
     "text": [
      "Not a Valid Password\n"
     ]
    }
   ],
   "source": [
    "import re\n",
    "p= input(\"Input your password\")\n",
    "x = True\n",
    "while x:  \n",
    "    if (len(p)<6 or len(p)>12):\n",
    "        break\n",
    "    elif not re.search(\"[a-z]\",p):\n",
    "        break\n",
    "    elif not re.search(\"[0-9]\",p):\n",
    "        break\n",
    "    elif not re.search(\"[A-Z]\",p):\n",
    "        break\n",
    "    elif not re.search(\"[$#@]\",p):\n",
    "        break\n",
    "    elif re.search(\"\\s\",p):\n",
    "        break\n",
    "    else:\n",
    "        print(\"Valid Password\")\n",
    "        x=False\n",
    "        break\n",
    "\n",
    "if x:\n",
    "    print(\"Not a Valid Password\")\n"
   ]
  },
  {
   "cell_type": "markdown",
   "metadata": {},
   "source": [
    "#### 4. Break the loop when x is 6, and see what happens with the else block"
   ]
  },
  {
   "cell_type": "code",
   "execution_count": 69,
   "metadata": {},
   "outputs": [
    {
     "name": "stdout",
     "output_type": "stream",
     "text": [
      "0\n",
      "tfzacvyhaev\n",
      "1\n",
      "tfzacvyhaev\n",
      "2\n",
      "tfzacvyhaev\n",
      "3\n",
      "tfzacvyhaev\n",
      "4\n",
      "tfzacvyhaev\n",
      "5\n",
      "tfzacvyhaev\n",
      "6\n"
     ]
    }
   ],
   "source": [
    "for i in range(10):\n",
    "   print(i) \n",
    "   if i==6:\n",
    "     i=i+1\n",
    "     break\n",
    "   \n",
    "   else:\n",
    "     print(\"tfzacvyhaev\")\n",
    "#break stop the code and don't allow the "
   ]
  },
  {
   "cell_type": "markdown",
   "metadata": {},
   "source": [
    "#### 5. Write a Python program to calculate the sum and average of n integer numbers (input from the user). Input 0 to finish.\n"
   ]
  },
  {
   "cell_type": "code",
   "execution_count": 84,
   "metadata": {},
   "outputs": [
    {
     "name": "stdout",
     "output_type": "stream",
     "text": [
      "you input 5 numbers\n",
      "average is 4.0\n",
      "sum of the n numbers is 16\n"
     ]
    }
   ],
   "source": [
    "number=1\n",
    "sum=0\n",
    "counter=0\n",
    "while number !=0 :\n",
    "    number=int(input(\"enter a number \"))\n",
    "    counter+=1\n",
    "    sum+=number\n",
    "\n",
    "\n",
    "average= sum/(counter-1)\n",
    "print(\"you input\",counter,\"numbers\")\n",
    "print(\"average is\",average)\n",
    "print(\"sum of the n numbers is\",sum)\n",
    "\n"
   ]
  }
 ],
 "metadata": {
  "kernelspec": {
   "display_name": "Python 3.10.7 64-bit",
   "language": "python",
   "name": "python3"
  },
  "language_info": {
   "codemirror_mode": {
    "name": "ipython",
    "version": 3
   },
   "file_extension": ".py",
   "mimetype": "text/x-python",
   "name": "python",
   "nbconvert_exporter": "python",
   "pygments_lexer": "ipython3",
   "version": "3.10.7"
  },
  "vscode": {
   "interpreter": {
    "hash": "7ffc9f559d6da9faea5063134c3f6bb68e80b498154eb0f4f32994b5c14387f1"
   }
  }
 },
 "nbformat": 4,
 "nbformat_minor": 2
}
