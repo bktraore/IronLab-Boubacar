{
  "cells": [
    {
      "cell_type": "markdown",
      "metadata": {
        "id": "cyxwhJCAeDPW"
      },
      "source": [
        "### Question 1: Find the questions and answers of last month."
      ]
    },
    {
      "cell_type": "code",
      "execution_count": 2,
      "metadata": {},
      "outputs": [
        {
          "name": "stdout",
          "output_type": "stream",
          "text": [
            "Collecting StackAPI\n",
            "  Downloading StackAPI-0.2.0.tar.gz (5.6 kB)\n",
            "Requirement already satisfied: requests in c:\\users\\kyrie\\anaconda3\\lib\\site-packages (from StackAPI) (2.27.1)\n",
            "Requirement already satisfied: six in c:\\users\\kyrie\\anaconda3\\lib\\site-packages (from StackAPI) (1.16.0)\n",
            "Requirement already satisfied: charset-normalizer~=2.0.0 in c:\\users\\kyrie\\anaconda3\\lib\\site-packages (from requests->StackAPI) (2.0.4)\n",
            "Requirement already satisfied: urllib3<1.27,>=1.21.1 in c:\\users\\kyrie\\anaconda3\\lib\\site-packages (from requests->StackAPI) (1.26.9)\n",
            "Requirement already satisfied: idna<4,>=2.5 in c:\\users\\kyrie\\anaconda3\\lib\\site-packages (from requests->StackAPI) (3.3)\n",
            "Requirement already satisfied: certifi>=2017.4.17 in c:\\users\\kyrie\\anaconda3\\lib\\site-packages (from requests->StackAPI) (2021.10.8)\n",
            "Building wheels for collected packages: StackAPI\n",
            "  Building wheel for StackAPI (setup.py): started\n",
            "  Building wheel for StackAPI (setup.py): finished with status 'done'\n",
            "  Created wheel for StackAPI: filename=StackAPI-0.2.0-py3-none-any.whl size=5858 sha256=e6d346c0e9b0e8b4d70be0afbf0f7b1aef67b26a3a527af98d7b1f76ab69a5f0\n",
            "  Stored in directory: c:\\users\\kyrie\\appdata\\local\\pip\\cache\\wheels\\de\\58\\fe\\8bab7cf44d8b0bf32e46f1715df2ba8c97d475de95a20985ac\n",
            "Successfully built StackAPI\n",
            "Installing collected packages: StackAPI\n",
            "Successfully installed StackAPI-0.2.0\n",
            "Note: you may need to restart the kernel to use updated packages.\n"
          ]
        }
      ],
      "source": [
        "pip install StackAPI"
      ]
    },
    {
      "cell_type": "code",
      "execution_count": 3,
      "metadata": {
        "colab": {
          "base_uri": "https://localhost:8080/",
          "height": 365
        },
        "id": "Zukx9Vl3eDPa",
        "outputId": "42d2cc11-9b0c-4f0d-b50a-5286a38717e7"
      },
      "outputs": [],
      "source": [
        "from stackapi import StackAPI\n",
        "SITE = StackAPI('stackoverflow')\n",
        "questions = SITE.fetch('questions', fromdate=1457136000, todate=1457222400, min=20, tagged='python', sort='votes')"
      ]
    },
    {
      "cell_type": "code",
      "execution_count": null,
      "metadata": {
        "id": "qoker9vGeDPc",
        "outputId": "09d94d30-740d-4d2d-d710-47dae7ffb8ee"
      },
      "outputs": [
        {
          "data": {
            "text/plain": [
              "{'backoff': 0,\n",
              " 'has_more': False,\n",
              " 'page': 1,\n",
              " 'quota_max': 300,\n",
              " 'quota_remaining': 76,\n",
              " 'total': 0,\n",
              " 'items': [{'tags': ['python', 'django', 'django-upgrade'],\n",
              "   'owner': {'reputation': 2820,\n",
              "    'user_id': 3380209,\n",
              "    'user_type': 'registered',\n",
              "    'accept_rate': 67,\n",
              "    'profile_image': 'https://www.gravatar.com/avatar/8f59b14e9d68ea636c6a70bc080e1f74?s=256&d=identicon&r=PG&f=1',\n",
              "    'display_name': 'albar',\n",
              "    'link': 'https://stackoverflow.com/users/3380209/albar'},\n",
              "   'is_answered': True,\n",
              "   'view_count': 18202,\n",
              "   'accepted_answer_id': 35817614,\n",
              "   'answer_count': 1,\n",
              "   'score': 41,\n",
              "   'last_activity_date': 1494321044,\n",
              "   'creation_date': 1457200271,\n",
              "   'last_edit_date': 1494321044,\n",
              "   'question_id': 35817597,\n",
              "   'content_license': 'CC BY-SA 3.0',\n",
              "   'link': 'https://stackoverflow.com/questions/35817597/django-core-servers-basehttp-filewrapper-disappears-in-django-1-9',\n",
              "   'title': 'django.core.servers.basehttp.FileWrapper disappears in Django 1.9'},\n",
              "  {'tags': ['python', 'numpy', 'scipy', 'signal-processing'],\n",
              "   'owner': {'reputation': 3504,\n",
              "    'user_id': 1525423,\n",
              "    'user_type': 'registered',\n",
              "    'accept_rate': 69,\n",
              "    'profile_image': 'https://i.stack.imgur.com/xkRry.png?s=256&g=1',\n",
              "    'display_name': 'Finwood',\n",
              "    'link': 'https://stackoverflow.com/users/1525423/finwood'},\n",
              "   'is_answered': True,\n",
              "   'view_count': 1524,\n",
              "   'accepted_answer_id': 35818398,\n",
              "   'answer_count': 2,\n",
              "   'score': 26,\n",
              "   'last_activity_date': 1457246584,\n",
              "   'creation_date': 1457186774,\n",
              "   'last_edit_date': 1457200889,\n",
              "   'question_id': 35815093,\n",
              "   'content_license': 'CC BY-SA 3.0',\n",
              "   'link': 'https://stackoverflow.com/questions/35815093/sine-calculation-orders-of-magnitude-slower-than-cosine',\n",
              "   'title': 'sine calculation orders of magnitude slower than cosine'},\n",
              "  {'tags': ['python', 'mongodb', 'mongodb-query', 'pymongo'],\n",
              "   'owner': {'reputation': 3751,\n",
              "    'user_id': 1204527,\n",
              "    'user_type': 'registered',\n",
              "    'accept_rate': 76,\n",
              "    'profile_image': 'https://www.gravatar.com/avatar/649b50c05ebed1a2f8bf71bca51da924?s=256&d=identicon&r=PG',\n",
              "    'display_name': 'Mirza Delic',\n",
              "    'link': 'https://stackoverflow.com/users/1204527/mirza-delic'},\n",
              "   'is_answered': True,\n",
              "   'view_count': 18845,\n",
              "   'accepted_answer_id': 35812898,\n",
              "   'answer_count': 1,\n",
              "   'score': 21,\n",
              "   'last_activity_date': 1487176725,\n",
              "   'creation_date': 1457171915,\n",
              "   'last_edit_date': 1487176725,\n",
              "   'question_id': 35812685,\n",
              "   'content_license': 'CC BY-SA 3.0',\n",
              "   'link': 'https://stackoverflow.com/questions/35812685/pymongo-create-unique-index-with-2-or-more-fields',\n",
              "   'title': 'PyMongo create unique index with 2 or more fields'},\n",
              "  {'tags': ['python', 'shell', 'ssh', 'paramiko', 'interactive'],\n",
              "   'owner': {'reputation': 687,\n",
              "    'user_id': 6023729,\n",
              "    'user_type': 'registered',\n",
              "    'profile_image': 'https://lh5.googleusercontent.com/-37B_sYErWwk/AAAAAAAAAAI/AAAAAAAAFiQ/WH58YQwvVM0/photo.jpg?sz=256',\n",
              "    'display_name': 'misha',\n",
              "    'link': 'https://stackoverflow.com/users/6023729/misha'},\n",
              "   'is_answered': True,\n",
              "   'view_count': 57580,\n",
              "   'accepted_answer_id': 36948840,\n",
              "   'answer_count': 1,\n",
              "   'score': 20,\n",
              "   'last_activity_date': 1556758520,\n",
              "   'creation_date': 1457220390,\n",
              "   'last_edit_date': 1556758520,\n",
              "   'question_id': 35821184,\n",
              "   'content_license': 'CC BY-SA 4.0',\n",
              "   'link': 'https://stackoverflow.com/questions/35821184/implement-an-interactive-shell-over-ssh-in-python-using-paramiko',\n",
              "   'title': 'Implement an interactive shell over ssh in Python using Paramiko?'}]}"
            ]
          },
          "execution_count": 31,
          "metadata": {},
          "output_type": "execute_result"
        }
      ],
      "source": [
        "questions"
      ]
    },
    {
      "cell_type": "code",
      "execution_count": null,
      "metadata": {
        "id": "lLP5zBD8eDPd"
      },
      "outputs": [],
      "source": [
        "#from stackapi import StackAPI\n",
        "#SITE = StackAPI('stackoverflow')\n",
        "#answers = SITE.fetch('answers', fromdate=1457136000, todate=1457222400, min=20, tagged='python', sort='votes')"
      ]
    },
    {
      "cell_type": "markdown",
      "metadata": {
        "id": "RE8S0Hn0eDPe"
      },
      "source": [
        "### Question 2: Find the most voted question today with at least a score of 5 and tagged with 'python'."
      ]
    },
    {
      "cell_type": "code",
      "execution_count": null,
      "metadata": {
        "id": "lPpClHUTeDPe"
      },
      "outputs": [],
      "source": [
        "#SITE = StackAPI('stackoverflow')\n",
        "#most_voted = SITE.fetch('questions', fromdate=1638877910, todate=1638877910, min=5, tagged='python', sort='votes')\n",
        "#most_voted"
      ]
    },
    {
      "cell_type": "markdown",
      "metadata": {
        "id": "KjlJmfCbeDPf"
      },
      "source": [
        "### Question 3: Find the answers with id 6784 and 6473."
      ]
    },
    {
      "cell_type": "code",
      "execution_count": null,
      "metadata": {
        "id": "So3JMQijeDPf"
      },
      "outputs": [],
      "source": [
        "#SITE = StackAPI('stackoverflow')\n",
        "#badges = SITE.fetch('badges', ids=[6784, 6473])\n",
        "#badges"
      ]
    },
    {
      "cell_type": "code",
      "execution_count": null,
      "metadata": {
        "id": "nnGF7yQceDPg"
      },
      "outputs": [],
      "source": []
    }
  ],
  "metadata": {
    "colab": {
      "provenance": []
    },
    "kernelspec": {
      "display_name": "Python 3.9.12 ('base')",
      "language": "python",
      "name": "python3"
    },
    "language_info": {
      "codemirror_mode": {
        "name": "ipython",
        "version": 3
      },
      "file_extension": ".py",
      "mimetype": "text/x-python",
      "name": "python",
      "nbconvert_exporter": "python",
      "pygments_lexer": "ipython3",
      "version": "3.9.12"
    },
    "vscode": {
      "interpreter": {
        "hash": "0d658b7905e2c8750a6281b8a0b6e5290a8ccefba68e865f2b292fdf99255727"
      }
    }
  },
  "nbformat": 4,
  "nbformat_minor": 0
}
