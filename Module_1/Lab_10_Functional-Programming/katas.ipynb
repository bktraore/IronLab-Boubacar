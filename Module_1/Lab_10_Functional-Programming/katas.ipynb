{
 "cells": [
  {
   "cell_type": "code",
   "execution_count": 1,
   "metadata": {},
   "outputs": [],
   "source": [
    "sheep = [True,  True,  True,  False, True,  True,  True,  True , True,  False, True,  False, True,  False, False, True , True,  True,  True,  True , False, False, True,  True ]\n",
    "def count_sheeps(sheep):\n",
    "    \n",
    "    counter=0\n",
    "    for i in sheep:\n",
    "        if i==True:\n",
    "            counter+=1\n",
    "    return counter\n"
   ]
  },
  {
   "cell_type": "code",
   "execution_count": 41,
   "metadata": {},
   "outputs": [
    {
     "data": {
      "text/plain": [
       "[1, 3, 5, 7, 9]"
      ]
     },
     "execution_count": 41,
     "metadata": {},
     "output_type": "execute_result"
    }
   ],
   "source": [
    "def remove_every_other(my_list):\n",
    "    list= []\n",
    "    for i in range(len(my_list)):\n",
    "        if i % 2 == 0:\n",
    "            list.append(my_list[i])\n",
    "    return list\n",
    "my_list=[1, 2, 3, 4, 5, 6, 7, 8, 9, 10]\n",
    "remove_every_other(my_list)\n"
   ]
  },
  {
   "cell_type": "code",
   "execution_count": 58,
   "metadata": {},
   "outputs": [
    {
     "name": "stdout",
     "output_type": "stream",
     "text": [
      "<class 'str'>\n",
      "6543\n",
      "[3, 4, 5, 6]\n"
     ]
    }
   ],
   "source": [
    "n=6543\n",
    "\n",
    "x=str(n)\n",
    "print(type(x))\n",
    "print(x)\n",
    "list1=[]    \n",
    "for digit in x:\n",
    "    list1.append(int(digit))\n",
    "list1.reverse()\n",
    "\n",
    "print (list1)\n",
    "    \n",
    "    \n",
    "    \n",
    "  "
   ]
  },
  {
   "cell_type": "code",
   "execution_count": 99,
   "metadata": {},
   "outputs": [],
   "source": [
    "def square_digits(num):\n",
    "    \n",
    "    x=str(num)\n",
    "    l=list(x)\n",
    "    list1=[]    \n",
    "\n",
    "    for digit in l:\n",
    "        list1.append(str(int(digit)**2))\n",
    "        join1=''.join(list1)\n",
    "    \n",
    "    return int(join1)\n",
    "\n",
    "#square_digits(999)"
   ]
  },
  {
   "cell_type": "code",
   "execution_count": 95,
   "metadata": {},
   "outputs": [
    {
     "name": "stdout",
     "output_type": "stream",
     "text": [
      "[3, 3, 3, 3, 3, 3, 3, 3]\n"
     ]
    }
   ],
   "source": [
    "integers_list =  [1, 1, 2 ,3 ,1 ,2 ,3 ,4]\n",
    "digits_list = [1, 3]\n",
    "#l.count_spec_digits(integers_list, digits_list) == [(1, 3), (3, 2)]\n",
    "tuple1=tuple(integers_list)\n",
    "\n",
    "list1=[]\n",
    "\n",
    "tuple2=tuple(digits_list)\n",
    "\n",
    "#for number in tuple2:\n",
    "for n in tuple1:\n",
    "    if number in tuple1:\n",
    "        list1.append(number)\n",
    "\n",
    "print(list1)\n",
    "\n",
    "\n",
    "\n",
    "\n",
    "\n",
    "\n",
    "\n",
    "\n",
    "\n",
    "#result=digits_list+"
   ]
  }
 ],
 "metadata": {
  "kernelspec": {
   "display_name": "Python 3.10.7 64-bit",
   "language": "python",
   "name": "python3"
  },
  "language_info": {
   "codemirror_mode": {
    "name": "ipython",
    "version": 3
   },
   "file_extension": ".py",
   "mimetype": "text/x-python",
   "name": "python",
   "nbconvert_exporter": "python",
   "pygments_lexer": "ipython3",
   "version": "3.10.7"
  },
  "orig_nbformat": 4,
  "vscode": {
   "interpreter": {
    "hash": "7ffc9f559d6da9faea5063134c3f6bb68e80b498154eb0f4f32994b5c14387f1"
   }
  }
 },
 "nbformat": 4,
 "nbformat_minor": 2
}
