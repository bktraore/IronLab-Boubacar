{
  "cells": [
    {
      "cell_type": "markdown",
      "metadata": {
        "id": "1_zPjT14FnEk"
      },
      "source": [
        "# [Rr]eg[Ee]xp? Lab\n",
        "\n",
        "# Challenge 1- Regular Expressions\n",
        "\n",
        "Sometimes, we would like to perform more complex manipulations of our string. This is where regular expressions come in handy. In the cell below, return all characters that are upper case from the string specified below."
      ]
    },
    {
      "cell_type": "code",
      "execution_count": null,
      "metadata": {
        "id": "wTEBcNAAFnEq"
      },
      "outputs": [],
      "source": [
        "import re"
      ]
    },
    {
      "cell_type": "code",
      "execution_count": null,
      "metadata": {
        "id": "P4pt6CfuFnEs",
        "outputId": "d2254681-538a-4823-9adc-869527640b5e",
        "colab": {
          "base_uri": "https://localhost:8080/"
        }
      },
      "outputs": [
        {
          "output_type": "execute_result",
          "data": {
            "text/plain": [
              "[' ', ' ', ' ', '456781 ', '7392 ', ' ', ' ', ' ', ' ']"
            ]
          },
          "metadata": {},
          "execution_count": 5
        }
      ],
      "source": [
        "poem = \"The apparition of 456781 7392 these faces in the crowd\"\n",
        "pattern= r\"[0-9]* \"\n",
        "re.findall(pattern,poem) "
      ]
    },
    {
      "cell_type": "code",
      "execution_count": null,
      "metadata": {
        "id": "eoMM73sEFnEt",
        "outputId": "f5e80889-13b2-4e2e-a6ea-2ff1a9433423"
      },
      "outputs": [
        {
          "data": {
            "text/plain": [
              "['456781 ']"
            ]
          },
          "execution_count": 6,
          "metadata": {},
          "output_type": "execute_result"
        }
      ],
      "source": [
        "poem = \"The apparition of 456781 7392these faces in the crowd\"\n",
        "pattern= \"[0-9][0-9]* \"\n",
        "re.findall(pattern,poem)"
      ]
    },
    {
      "cell_type": "code",
      "execution_count": null,
      "metadata": {
        "id": "WWmxT-hBFnEu",
        "outputId": "a3f3462d-faa5-42fb-c192-caeef843ce25"
      },
      "outputs": [
        {
          "data": {
            "text/plain": [
              "['T', 'P']"
            ]
          },
          "execution_count": 7,
          "metadata": {},
          "output_type": "execute_result"
        }
      ],
      "source": [
        "import re\n",
        "\n",
        "poem = \"\"\"The apparition of these faces in the crowd;\n",
        "Petals on a wet, black bough.\"\"\"\n",
        "\n",
        "# Your code here:\n",
        "pattern = \"[A-Z]\"\n",
        "re.findall(pattern,poem)\n"
      ]
    },
    {
      "cell_type": "markdown",
      "metadata": {
        "id": "wBaCYQsLFnEu"
      },
      "source": [
        "In the cell below, filter the list provided and return all elements of the list containing a number. To filter the list, use the `re.search` function. Check if the function does not return `None`. You can read more about the `re.search` function [here](https://docs.python.org/3/library/re.html)."
      ]
    },
    {
      "cell_type": "code",
      "execution_count": null,
      "metadata": {
        "id": "51Wl671wFnEv",
        "colab": {
          "base_uri": "https://localhost:8080/"
        },
        "outputId": "bbc5d921-76a7-401f-8350-8b47b6876a46"
      },
      "outputs": [
        {
          "output_type": "execute_result",
          "data": {
            "text/plain": [
              "['123abc', 'abc123', 'JohnSmith1', 'ABBY4']"
            ]
          },
          "metadata": {},
          "execution_count": 9
        }
      ],
      "source": [
        "data = ['123abc', 'abc123', 'JohnSmith1', 'ABBY4', 'JANE']\n",
        "result=[]\n",
        "for i in data:\n",
        "  if re.search(\"[\\d]\",i):\n",
        "    result.append(i)\n",
        "result"
      ]
    },
    {
      "cell_type": "code",
      "source": [
        "# Your code here:\n",
        "t = \" \".join(data)\n",
        "t\n"
      ],
      "metadata": {
        "colab": {
          "base_uri": "https://localhost:8080/",
          "height": 36
        },
        "id": "zhfnD72MBGwC",
        "outputId": "a27899bd-1be8-4ebe-870b-6cc208ed1e83"
      },
      "execution_count": null,
      "outputs": [
        {
          "output_type": "execute_result",
          "data": {
            "text/plain": [
              "'123abc abc123 JohnSmith1 ABBY4 JANE'"
            ],
            "application/vnd.google.colaboratory.intrinsic+json": {
              "type": "string"
            }
          },
          "metadata": {},
          "execution_count": 10
        }
      ]
    },
    {
      "cell_type": "code",
      "source": [
        "p = \"[\\d]*\"\n",
        "re.findall(p,t)\n",
        "\n"
      ],
      "metadata": {
        "colab": {
          "base_uri": "https://localhost:8080/"
        },
        "id": "BuTDtseXBTkL",
        "outputId": "45f20399-bd50-4901-9e0d-f85b5179bbe0"
      },
      "execution_count": null,
      "outputs": [
        {
          "output_type": "execute_result",
          "data": {
            "text/plain": [
              "['123',\n",
              " '',\n",
              " '',\n",
              " '',\n",
              " '',\n",
              " '',\n",
              " '',\n",
              " '',\n",
              " '123',\n",
              " '',\n",
              " '',\n",
              " '',\n",
              " '',\n",
              " '',\n",
              " '',\n",
              " '',\n",
              " '',\n",
              " '',\n",
              " '',\n",
              " '1',\n",
              " '',\n",
              " '',\n",
              " '',\n",
              " '',\n",
              " '',\n",
              " '4',\n",
              " '',\n",
              " '',\n",
              " '',\n",
              " '',\n",
              " '',\n",
              " '']"
            ]
          },
          "metadata": {},
          "execution_count": 5
        }
      ]
    },
    {
      "cell_type": "code",
      "source": [
        "re.search(p,t)"
      ],
      "metadata": {
        "id": "yZuklMnxBbYX",
        "colab": {
          "base_uri": "https://localhost:8080/"
        },
        "outputId": "2c0e0ba4-3014-4e2c-a344-b5bbd19ae9c9"
      },
      "execution_count": null,
      "outputs": [
        {
          "output_type": "execute_result",
          "data": {
            "text/plain": [
              "<re.Match object; span=(0, 3), match='123'>"
            ]
          },
          "metadata": {},
          "execution_count": 6
        }
      ]
    },
    {
      "cell_type": "markdown",
      "metadata": {
        "id": "hcytj8t8FnEv"
      },
      "source": [
        "# Challenge 2 - Regular Expressions II\n",
        "\n",
        "In the cell below, filter the list provided to keep only strings containing at least one digit and at least one lower case letter. As in the previous question, use the `re.search` function and check that the result is not `None`.\n",
        "\n",
        "To read more about regular expressions, check out [this link](https://developers.google.com/edu/python/regular-expressions)."
      ]
    },
    {
      "cell_type": "code",
      "execution_count": null,
      "metadata": {
        "id": "0SBW0ZfgFnEw",
        "outputId": "f9ad930d-af54-425d-e32c-82dd954dde8c"
      },
      "outputs": [
        {
          "data": {
            "text/plain": [
              "<re.Match object; span=(0, 6), match='123abc'>"
            ]
          },
          "execution_count": 9,
          "metadata": {},
          "output_type": "execute_result"
        }
      ],
      "source": [
        "data = ['123abc', 'abc123', 'JohnSmith1', 'ABBY4', 'JANE']\n",
        "# Your code here:\n",
        "t = \" \".join(data)\n",
        "t\n",
        "# Your code here:\n",
        "p = \"\\d+\\w+\"\n",
        "re.search(p,t)"
      ]
    },
    {
      "cell_type": "code",
      "source": [
        "data = ['123abc', 'abc123', 'JohnSmith1', 'ABBY4', 'JANE']\n",
        "result=[]\n",
        "for i in data:\n",
        "  if re.search(\"\\d+\",i) and re.search(\"[a-z]\",i):\n",
        "    result.append(i)\n",
        "result"
      ],
      "metadata": {
        "colab": {
          "base_uri": "https://localhost:8080/"
        },
        "id": "roQNGWZ60-er",
        "outputId": "047c1e62-de2b-48d2-cc23-fcc6f012aece"
      },
      "execution_count": null,
      "outputs": [
        {
          "output_type": "execute_result",
          "data": {
            "text/plain": [
              "['123abc', 'abc123', 'JohnSmith1']"
            ]
          },
          "metadata": {},
          "execution_count": 14
        }
      ]
    },
    {
      "cell_type": "markdown",
      "metadata": {
        "id": "6pL3a24BFnEz"
      },
      "source": [
        "# Challenge 3 -  Advanced Regular Expressions\n",
        "\n",
        "Complete the following set of exercises to solidify your knowledge of regular expressions."
      ]
    },
    {
      "cell_type": "code",
      "execution_count": null,
      "metadata": {
        "id": "itFbdn29FnE0"
      },
      "outputs": [],
      "source": [
        "import re"
      ]
    },
    {
      "cell_type": "markdown",
      "metadata": {
        "id": "ANxNuCCXFnE1"
      },
      "source": [
        "### 1. Use a regular expression to find and extract all vowels in the following text."
      ]
    },
    {
      "cell_type": "code",
      "execution_count": null,
      "metadata": {
        "id": "Rwsa-UfIFnE1"
      },
      "outputs": [],
      "source": [
        "text = \"This is going to be a sentence with a good number of vowels in it.\""
      ]
    },
    {
      "cell_type": "code",
      "execution_count": null,
      "metadata": {
        "id": "CJuyPMMlFnE2",
        "outputId": "dee50c5c-53eb-4e52-8d91-ba76311c0ee7"
      },
      "outputs": [
        {
          "data": {
            "text/plain": [
              "['i',\n",
              " 'i',\n",
              " 'o',\n",
              " 'i',\n",
              " 'o',\n",
              " 'e',\n",
              " 'a',\n",
              " 'e',\n",
              " 'e',\n",
              " 'e',\n",
              " 'i',\n",
              " 'a',\n",
              " 'o',\n",
              " 'o',\n",
              " 'u',\n",
              " 'e',\n",
              " 'o',\n",
              " 'o',\n",
              " 'e',\n",
              " 'i',\n",
              " 'i']"
            ]
          },
          "execution_count": 12,
          "metadata": {},
          "output_type": "execute_result"
        }
      ],
      "source": [
        "pattern = '[a,e,i,y,o,u]'\n",
        "re.findall(pattern, text)\n"
      ]
    },
    {
      "cell_type": "markdown",
      "metadata": {
        "id": "9ayJYXs1FnE2"
      },
      "source": [
        "### 2. Use a regular expression to find and extract all occurrences and tenses (singular and plural) of the word \"puppy\" in the text below."
      ]
    },
    {
      "cell_type": "code",
      "execution_count": null,
      "metadata": {
        "id": "N47RTrYfFnE2"
      },
      "outputs": [],
      "source": [
        "text = \"The puppy saw all the rest of the puppies playing and wanted to join them. I saw this and wanted a puppy of my own!\""
      ]
    },
    {
      "cell_type": "code",
      "execution_count": null,
      "metadata": {
        "id": "SPAQg3riFnE3",
        "outputId": "499f017e-cb16-49f7-ed34-791c7b8f4d03"
      },
      "outputs": [
        {
          "name": "stdout",
          "output_type": "stream",
          "text": [
            "['puppy', 'puppies', 'puppy']\n"
          ]
        }
      ],
      "source": [
        "print(re.findall('puppy|puppies', text))"
      ]
    },
    {
      "cell_type": "markdown",
      "metadata": {
        "id": "Jd6B3o86FnE3"
      },
      "source": [
        "### 3. Use a regular expression to find and extract all tenses (present and past) of the word \"run\" in the text below."
      ]
    },
    {
      "cell_type": "code",
      "execution_count": null,
      "metadata": {
        "id": "doT27Wm0FnE3"
      },
      "outputs": [],
      "source": [
        "text = \"I ran the relay race the only way I knew how to run it.\""
      ]
    },
    {
      "cell_type": "code",
      "execution_count": null,
      "metadata": {
        "id": "UMy0XS1VFnE3",
        "outputId": "8c24566d-7855-4bc1-a882-b71e9d0d452a"
      },
      "outputs": [
        {
          "name": "stdout",
          "output_type": "stream",
          "text": [
            "['ran', 'run']\n"
          ]
        }
      ],
      "source": [
        "print(re.findall('run|ran', text))"
      ]
    },
    {
      "cell_type": "markdown",
      "metadata": {
        "id": "oW4EkebnFnE4"
      },
      "source": [
        "### 4. Use a regular expression to find and extract all words that begin with the letter \"r\" from the previous text."
      ]
    },
    {
      "cell_type": "code",
      "execution_count": null,
      "metadata": {
        "id": "wOuPj-VfFnE4",
        "outputId": "e7561430-fa46-4748-cb2d-4047e59ec9aa"
      },
      "outputs": [
        {
          "name": "stdout",
          "output_type": "stream",
          "text": [
            "['ran', 'relay', 'race', 'run']\n"
          ]
        }
      ],
      "source": [
        "print(re.findall(r\"r[a-z]*\", text))"
      ]
    },
    {
      "cell_type": "markdown",
      "metadata": {
        "id": "zkOLrbHiFnE4"
      },
      "source": [
        "### 5. Use a regular expression to find and substitute the letter \"i\" for the exclamation marks in the text below."
      ]
    },
    {
      "cell_type": "code",
      "execution_count": null,
      "metadata": {
        "id": "-YTgKKLRFnE5"
      },
      "outputs": [],
      "source": [
        "text_1 = \"Th!s !s a sentence w!th spec!al characters !n !t.\""
      ]
    },
    {
      "cell_type": "code",
      "execution_count": null,
      "metadata": {
        "id": "8InRP1MYFnE5",
        "outputId": "9752ea2d-ace9-4e2a-ea55-205fcd5ee73d",
        "colab": {
          "base_uri": "https://localhost:8080/"
        }
      },
      "outputs": [
        {
          "output_type": "stream",
          "name": "stdout",
          "text": [
            "This is a sentence with special characters in it.\n"
          ]
        }
      ],
      "source": [
        "print(text_1.replace(\"!\",\"i\"))"
      ]
    },
    {
      "cell_type": "markdown",
      "metadata": {
        "id": "cI8nVs-kFnE5"
      },
      "source": [
        "### 6. Use a regular expression to find and extract words longer than 4 characters in the text below."
      ]
    },
    {
      "cell_type": "code",
      "execution_count": null,
      "metadata": {
        "id": "C18i1M9GFnE5"
      },
      "outputs": [],
      "source": [
        "text = \"This sentence has words of varying lengths.\""
      ]
    },
    {
      "cell_type": "code",
      "execution_count": null,
      "metadata": {
        "id": "4T3UTsZBFnE6",
        "outputId": "eb8eb671-3ff5-43bf-9b0b-97113024e5b1",
        "colab": {
          "base_uri": "https://localhost:8080/"
        }
      },
      "outputs": [
        {
          "output_type": "stream",
          "name": "stdout",
          "text": [
            "['sentence', 'words', 'varying', 'lengths']\n"
          ]
        }
      ],
      "source": [
        "print(re.findall(r\"[a-z]{5,}\", text))"
      ]
    },
    {
      "cell_type": "markdown",
      "metadata": {
        "id": "e8Y5NGk1FnE6"
      },
      "source": [
        "### 7. Use a regular expression to find and extract all occurrences of the letter \"b\", some letter(s), and then the letter \"t\" in the sentence below."
      ]
    },
    {
      "cell_type": "code",
      "execution_count": null,
      "metadata": {
        "id": "U2GLSC61FnE6"
      },
      "outputs": [],
      "source": [
        "text = \"I bet the robot couldn't beat the other bot with a bat, but instead it bit me.\""
      ]
    },
    {
      "cell_type": "code",
      "execution_count": null,
      "metadata": {
        "id": "L8zxHdk5FnE6",
        "outputId": "13bfacb7-69e9-4029-b634-405b312786a3"
      },
      "outputs": [
        {
          "name": "stdout",
          "output_type": "stream",
          "text": [
            "['bet', 'bot', 'beat', 'bot', 'bat', 'but', 'bit']\n"
          ]
        }
      ],
      "source": [
        "print(re.findall(r\"b[a-z]*t\", text))"
      ]
    },
    {
      "cell_type": "markdown",
      "metadata": {
        "id": "sU_49FiqFnE6"
      },
      "source": [
        "### 8. Use a regular expression to find and extract all words that contain either \"ea\" or \"eo\" in them."
      ]
    },
    {
      "cell_type": "code",
      "execution_count": null,
      "metadata": {
        "id": "WxgRR1ulFnE7"
      },
      "outputs": [],
      "source": [
        "text = \"During many of the peaks and troughs of history, the people living it didn't fully realize what was unfolding. But we all know we're navigating breathtaking history: Nearly every day could be — maybe will be — a book.\"\n"
      ]
    },
    {
      "cell_type": "code",
      "execution_count": null,
      "metadata": {
        "id": "ccgKqzbCFnE7",
        "outputId": "74c9d979-e7a2-4e8e-cc54-f93c8527b59f",
        "colab": {
          "base_uri": "https://localhost:8080/"
        }
      },
      "outputs": [
        {
          "output_type": "execute_result",
          "data": {
            "text/plain": [
              "['peaks', 'people', 'realize', 'breathtaking', 'nearly']"
            ]
          },
          "metadata": {},
          "execution_count": 30
        }
      ],
      "source": [
        "pattern = r\"[a-z]*e[ao][a-z]*\"\n",
        "re.findall(pattern,text.lower())"
      ]
    },
    {
      "cell_type": "markdown",
      "metadata": {
        "id": "6uct4l_wFnE7"
      },
      "source": [
        "### 9. Use a regular expression to find and extract all the capitalized words in the text below individually."
      ]
    },
    {
      "cell_type": "code",
      "execution_count": null,
      "metadata": {
        "id": "YckkR1OkFnE7"
      },
      "outputs": [],
      "source": [
        "text = \"Teddy Roosevelt and Abraham Lincoln walk into a bar.\""
      ]
    },
    {
      "cell_type": "code",
      "execution_count": null,
      "metadata": {
        "id": "RvmBcIY5FnE8",
        "outputId": "fbbfcd5e-05b5-45e3-b427-0c193178ace5"
      },
      "outputs": [
        {
          "name": "stdout",
          "output_type": "stream",
          "text": [
            "Teddy\n",
            "Roosevelt\n",
            "Abraham\n",
            "Lincoln\n"
          ]
        }
      ],
      "source": [
        "pattern = r\"[A-Z][a-z]*\"\n",
        "for word in re.findall(pattern,text):\n",
        "    print(word)"
      ]
    },
    {
      "cell_type": "markdown",
      "metadata": {
        "id": "QSrMcAOjFnE8"
      },
      "source": [
        "### 10. Use a regular expression to find and extract all the sets of consecutive capitalized words in the text above."
      ]
    },
    {
      "cell_type": "code",
      "execution_count": null,
      "metadata": {
        "id": "iSCuwsAhFnE8"
      },
      "outputs": [],
      "source": [
        "pattern = r\"[A-Z][a-z]* [A-Z][a-z]*\"\n",
        "for set_words in re.findall(pattern,text):\n",
        "    print(set_words)\n"
      ]
    },
    {
      "cell_type": "markdown",
      "metadata": {
        "id": "_bM869GQFnE8"
      },
      "source": [
        "### 11. Use a regular expression to find and extract all the quotes from the text below.\n",
        "\n",
        "*Hint: This one is a little more complex than the single quote example in the lesson because there are multiple quotes in the text.*"
      ]
    },
    {
      "cell_type": "code",
      "execution_count": null,
      "metadata": {
        "id": "aHOIW1M0FnE8"
      },
      "outputs": [],
      "source": [
        "text = 'Roosevelt says to Lincoln, \"I will bet you $50 I can get the bartender to give me a free drink.\" Lincoln says, \"I am in!\"'\n"
      ]
    },
    {
      "cell_type": "code",
      "execution_count": null,
      "metadata": {
        "id": "Uf62ABzUFnE9",
        "outputId": "9f724aa3-be7f-409b-bdac-8861dd6d9464",
        "colab": {
          "base_uri": "https://localhost:8080/"
        }
      },
      "outputs": [
        {
          "output_type": "execute_result",
          "data": {
            "text/plain": [
              "['\"I will bet you $50 I can get the bartender to give me a free drink.\"',\n",
              " '\"I am in!\"']"
            ]
          },
          "metadata": {},
          "execution_count": 33
        }
      ],
      "source": [
        "pattern = r'\".+?\"'\n",
        "\n",
        "re.findall(pattern,text)"
      ]
    },
    {
      "cell_type": "markdown",
      "metadata": {
        "id": "JMvJhDH0FnE9"
      },
      "source": [
        "### 12. Use a regular expression to find and extract all the numbers from the text below."
      ]
    },
    {
      "cell_type": "code",
      "execution_count": null,
      "metadata": {
        "id": "HxwnM00FFnE9"
      },
      "outputs": [],
      "source": [
        "text = \"There were 30 students in the class. Of the 30 students, 14 were male and 16 were female. Only 10 students got A's on the exam.\"\n"
      ]
    },
    {
      "cell_type": "code",
      "execution_count": null,
      "metadata": {
        "id": "BB_N4NzrFnE9",
        "outputId": "ee4d76bb-70bb-457f-f06c-e1bf41b928bc",
        "colab": {
          "base_uri": "https://localhost:8080/"
        }
      },
      "outputs": [
        {
          "output_type": "execute_result",
          "data": {
            "text/plain": [
              "['30', '30', '14', '16', '10']"
            ]
          },
          "metadata": {},
          "execution_count": 35
        }
      ],
      "source": [
        "pattern = r'[0-9]+'\n",
        "re.findall(pattern,text)"
      ]
    },
    {
      "cell_type": "markdown",
      "metadata": {
        "id": "yPqD2ID3FnE9"
      },
      "source": [
        "### 13. Use a regular expression to find and extract all the social security numbers from the text below."
      ]
    },
    {
      "cell_type": "code",
      "execution_count": null,
      "metadata": {
        "id": "1qkfnOmPFnE9"
      },
      "outputs": [],
      "source": [
        "text = \"\"\"\n",
        "Henry's social security number is 876-93-2289 and his phone number is (847)789-0984.\n",
        "Darlene's social security number is 098-32-5295 and her phone number is (987)222-0901.\n",
        "\"\"\""
      ]
    },
    {
      "cell_type": "code",
      "execution_count": null,
      "metadata": {
        "id": "gq5CNfrpFnE9",
        "outputId": "9caad5ee-371a-4ae2-9a07-bdf698914089",
        "colab": {
          "base_uri": "https://localhost:8080/"
        }
      },
      "outputs": [
        {
          "output_type": "execute_result",
          "data": {
            "text/plain": [
              "['876-93-2289', '098-32-5295']"
            ]
          },
          "metadata": {},
          "execution_count": 37
        }
      ],
      "source": [
        "pattern = r\"\\d{3}-\\d{2}-\\d{4}\"\n",
        "re.findall(pattern,text)"
      ]
    },
    {
      "cell_type": "markdown",
      "metadata": {
        "id": "jzCZWPloFnE-"
      },
      "source": [
        "### 14. Use a regular expression to find and extract all the phone numbers from the text below."
      ]
    },
    {
      "cell_type": "code",
      "execution_count": null,
      "metadata": {
        "id": "oLSoilHyFnE-",
        "outputId": "9d284a60-5e59-4c00-b02b-45f6135e1bd0",
        "colab": {
          "base_uri": "https://localhost:8080/"
        }
      },
      "outputs": [
        {
          "output_type": "execute_result",
          "data": {
            "text/plain": [
              "['(847)789-0984', '(987)222-0901']"
            ]
          },
          "metadata": {},
          "execution_count": 38
        }
      ],
      "source": [
        "pattern = r\".\\d{3}.\\d{3}.\\d{4}\"\n",
        "re.findall(pattern,text)\n"
      ]
    },
    {
      "cell_type": "markdown",
      "metadata": {
        "id": "ENf-IMZLFnE-"
      },
      "source": [
        "### 15. Use a regular expression to find and extract all the formatted numbers (both social security and phone) from the text below."
      ]
    },
    {
      "cell_type": "code",
      "execution_count": null,
      "metadata": {
        "id": "hqEamS9xFnE-",
        "outputId": "8afe8bc9-a1c9-48d6-e6be-f46caad0e9ef",
        "colab": {
          "base_uri": "https://localhost:8080/"
        }
      },
      "outputs": [
        {
          "output_type": "execute_result",
          "data": {
            "text/plain": [
              "[' 876-93-2289', '(847)789-0984', ' 098-32-5295', '(987)222-0901']"
            ]
          },
          "metadata": {},
          "execution_count": 39
        }
      ],
      "source": [
        "pattern = r\".\\d+.\\d+.\\d+\"\n",
        "re.findall(pattern,text)"
      ]
    },
    {
      "cell_type": "code",
      "execution_count": null,
      "metadata": {
        "id": "L8UOmShiFnE-"
      },
      "outputs": [],
      "source": []
    }
  ],
  "metadata": {
    "kernelspec": {
      "display_name": "Python 3",
      "language": "python",
      "name": "python3"
    },
    "language_info": {
      "codemirror_mode": {
        "name": "ipython",
        "version": 3
      },
      "file_extension": ".py",
      "mimetype": "text/x-python",
      "name": "python",
      "nbconvert_exporter": "python",
      "pygments_lexer": "ipython3",
      "version": "3.7.4"
    },
    "varInspector": {
      "cols": {
        "lenName": 16,
        "lenType": 16,
        "lenVar": 40
      },
      "kernels_config": {
        "python": {
          "delete_cmd_postfix": "",
          "delete_cmd_prefix": "del ",
          "library": "var_list.py",
          "varRefreshCmd": "print(var_dic_list())"
        },
        "r": {
          "delete_cmd_postfix": ") ",
          "delete_cmd_prefix": "rm(",
          "library": "var_list.r",
          "varRefreshCmd": "cat(var_dic_list()) "
        }
      },
      "types_to_exclude": [
        "module",
        "function",
        "builtin_function_or_method",
        "instance",
        "_Feature"
      ],
      "window_display": false
    },
    "colab": {
      "provenance": []
    }
  },
  "nbformat": 4,
  "nbformat_minor": 0
}